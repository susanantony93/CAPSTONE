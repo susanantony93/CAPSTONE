{
 "cells": [
  {
   "cell_type": "markdown",
   "metadata": {
    "collapsed": true
   },
   "source": [
    "# Capstone Project - Car accident severity (Week 2)"
   ]
  },
  {
   "cell_type": "markdown",
   "metadata": {},
   "source": [
    "## Table of contents\n",
    "* [Introduction: Business Problem](#introduction)\n",
    "* [Data](#data)\n",
    "* [Methodology](#methodology)\n",
    "* [Analysis](#analysis)\n",
    "* [Results and Discussion](#results)\n",
    "* [Conclusion](#conclusion)"
   ]
  },
  {
   "cell_type": "markdown",
   "metadata": {},
   "source": [
    "## Introduction: Business Problem <a name=\"introduction\"></a>"
   ]
  },
  {
   "cell_type": "markdown",
   "metadata": {},
   "source": [
    "In this project we will try to find the severity of an accident. This report targets stakeholders like the common people, police department, health department, insurance agencies etc. \n",
    "\n",
    "Since, the accidents have been increasing lately, it is important to identify the severity level for each accident that occured in the past and use this information to **identify the severity of accidents that occur based on various factors that describe the accident, damage to property, no of casualties, severity of the injuries etc.** This information can help the police and public departments to warn the public of the severity of accidents that are likely to accur in a **particular area or based on the weather conditions**.\n",
    "\n",
    "We can use data science techniques and build machine learning models to predict the severity of accidents based on these factors."
   ]
  },
  {
   "cell_type": "markdown",
   "metadata": {},
   "source": [
    "## Data <a name=\"data\"></a>"
   ]
  },
  {
   "cell_type": "markdown",
   "metadata": {},
   "source": [
    "Based on definition of our problem, factors that will influence our decission are:\n",
    "* Number of passengers, vehicles, cyclers involved in the accident\n",
    "* The type of location and junction\n",
    "* The type of collision\n",
    "* Whether or not collision was due to inattention, speeding or influence of alcohol\n",
    "* The condition of weather, road and surrounding lighting\n",
    "* Whether or not the collision involved hitting a parked car\n",
    "\n",
    "Other information which may not contribute to the prediction of accident severity was not considered for the analysis."
   ]
  },
  {
   "cell_type": "code",
   "execution_count": null,
   "metadata": {},
   "outputs": [],
   "source": []
  }
 ],
 "metadata": {
  "kernelspec": {
   "display_name": "Python 3",
   "language": "python",
   "name": "python3"
  },
  "language_info": {
   "codemirror_mode": {
    "name": "ipython",
    "version": 3
   },
   "file_extension": ".py",
   "mimetype": "text/x-python",
   "name": "python",
   "nbconvert_exporter": "python",
   "pygments_lexer": "ipython3",
   "version": "3.7.4"
  }
 },
 "nbformat": 4,
 "nbformat_minor": 1
}
